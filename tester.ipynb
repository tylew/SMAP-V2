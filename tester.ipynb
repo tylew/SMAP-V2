{
 "cells": [
  {
   "cell_type": "code",
   "execution_count": 1,
   "metadata": {},
   "outputs": [
    {
     "ename": "ModuleNotFoundError",
     "evalue": "No module named 'smap_package.SMAP_Client'",
     "output_type": "error",
     "traceback": [
      "\u001b[0;31m---------------------------------------------------------------------------\u001b[0m",
      "\u001b[0;31mModuleNotFoundError\u001b[0m                       Traceback (most recent call last)",
      "Cell \u001b[0;32mIn[1], line 2\u001b[0m\n\u001b[1;32m      1\u001b[0m \u001b[38;5;28;01mfrom\u001b[39;00m \u001b[38;5;21;01msmap_package\u001b[39;00m \u001b[38;5;28;01mimport\u001b[39;00m SMAP_Client\n\u001b[0;32m----> 2\u001b[0m \u001b[38;5;28;01mimport\u001b[39;00m \u001b[38;5;21;01msmap_package\u001b[39;00m\u001b[38;5;21;01m.\u001b[39;00m\u001b[38;5;21;01mSMAP_Client\u001b[39;00m\n\u001b[1;32m      3\u001b[0m \u001b[38;5;28;01mimport\u001b[39;00m \u001b[38;5;21;01mimportlib\u001b[39;00m\n\u001b[1;32m      5\u001b[0m importlib\u001b[38;5;241m.\u001b[39mreload(smap_package\u001b[38;5;241m.\u001b[39mSMAP_Client)\n",
      "\u001b[0;31mModuleNotFoundError\u001b[0m: No module named 'smap_package.SMAP_Client'"
     ]
    }
   ],
   "source": [
    "from smap_package import SMAP_Client\n",
    "import smap_package.SMAP_Client\n",
    "import importlib\n",
    "\n",
    "importlib.reload(smap_package.SMAP_Client)\n",
    "\n",
    "client = SMAP_Client()"
   ]
  },
  {
   "cell_type": "code",
   "execution_count": 1,
   "metadata": {},
   "outputs": [],
   "source": [
    "import importlib\n",
    "from smap_package import *\n",
    "import smap_package.smap_client  # Import the module containing SMAP_Client\n",
    "\n",
    "# Reload the module to apply any changes\n",
    "importlib.reload(smap_package)\n",
    "importlib.reload(smap_package.smap_client)\n",
    "\n",
    "# Now import SMAP_Client from the reloaded module\n",
    "from smap_package.smap_client import SMAP_Client\n",
    "\n",
    "# Create an instance of SMAP_Client\n",
    "client = SMAP_Client()\n"
   ]
  },
  {
   "cell_type": "code",
   "execution_count": null,
   "metadata": {},
   "outputs": [],
   "source": []
  },
  {
   "cell_type": "code",
   "execution_count": 3,
   "metadata": {},
   "outputs": [
    {
     "data": {
      "text/plain": [
       "smap_package.src.tools.apsTool.APS"
      ]
     },
     "execution_count": 3,
     "metadata": {},
     "output_type": "execute_result"
    }
   ],
   "source": [
    "type(client.aps)"
   ]
  }
 ],
 "metadata": {
  "kernelspec": {
   "display_name": "cc",
   "language": "python",
   "name": "python3"
  },
  "language_info": {
   "codemirror_mode": {
    "name": "ipython",
    "version": 3
   },
   "file_extension": ".py",
   "mimetype": "text/x-python",
   "name": "python",
   "nbconvert_exporter": "python",
   "pygments_lexer": "ipython3",
   "version": "3.8.19"
  }
 },
 "nbformat": 4,
 "nbformat_minor": 2
}
